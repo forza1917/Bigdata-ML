{
 "cells": [
  {
   "cell_type": "markdown",
   "metadata": {},
   "source": [
    "## Unsupervised Learning: Clustering"
   ]
  },
  {
   "cell_type": "markdown",
   "metadata": {},
   "source": [
    "Just a few words before we start. This topic is very import and interesting and worth spending some time to read about it. There is a fantastic Yorko's tutorial on unsupervised learning [www.kaggle.com/kashnitsky/topic-7-unsupervised-learning-pca-and-clustering](http://), still there are some clustering techniques, which were not covered in that tutorial. My tutorial is a brief overview of clustering methods provided by sklearn library in Python, which were not listed in Yorko's kernel.\n",
    "\n",
    "Looking forward to seeing your feedback. Enjoy!"
   ]
  },
  {
   "cell_type": "markdown",
   "metadata": {},
   "source": [
    "https://scikit-learn.org/stable/modules/classes.html#module-sklearn.metrics"
   ]
  },
  {
   "cell_type": "markdown",
   "metadata": {},
   "source": [
    "## Libraries"
   ]
  },
  {
   "cell_type": "code",
   "execution_count": 13,
   "metadata": {},
   "outputs": [],
   "source": [
    "import numpy as np\n",
    "import pandas as pd\n",
    "import os\n",
    "import seaborn as sns\n",
    "import matplotlib.pyplot as plt\n",
    "from tqdm import tqdm_notebook\n",
    "from sklearn import datasets\n",
    "from sklearn.cluster import KMeans, MeanShift, DBSCAN, Birch\n",
    "from sklearn import metrics"
   ]
  },
  {
   "cell_type": "markdown",
   "metadata": {},
   "source": [
    "## Data"
   ]
  },
  {
   "cell_type": "markdown",
   "metadata": {},
   "source": [
    "In order to make it easy to compare results of this tutorial with Yorko's I will use the same dataset, MNIST dataset."
   ]
  },
  {
   "cell_type": "code",
   "execution_count": 14,
   "metadata": {
    "_cell_guid": "79c7e3d0-c299-4dcb-8224-4455121ee9b0",
    "_uuid": "d629ff2d2480ee46fbb7e2d37f6b5fab8052498a"
   },
   "outputs": [
    {
     "data": {
      "text/plain": [
       "((1797, 64), (1797,))"
      ]
     },
     "execution_count": 14,
     "metadata": {},
     "output_type": "execute_result"
    }
   ],
   "source": [
    "data = datasets.load_digits()\n",
    "X, y = data.data, data.target\n",
    "X.shape, y.shape"
   ]
  },
  {
   "cell_type": "code",
   "execution_count": 3,
   "metadata": {},
   "outputs": [
    {
     "name": "stderr",
     "output_type": "stream",
     "text": [
      "/Users/maximmigutin/Library/Python/3.8/lib/python/site-packages/seaborn/_decorators.py:36: FutureWarning: Pass the following variable as a keyword arg: x. From version 0.12, the only valid positional argument will be `data`, and passing other arguments without an explicit keyword will result in an error or misinterpretation.\n",
      "  warnings.warn(\n"
     ]
    },
    {
     "data": {
      "image/png": "[encoded data removed]",
      "text/plain": [
       "<Figure size 432x288 with 1 Axes>"
      ]
     },
     "metadata": {
      "needs_background": "light"
     },
     "output_type": "display_data"
    }
   ],
   "source": [
    "sns.countplot(y);"
   ]
  },
  {
   "cell_type": "markdown",
   "metadata": {},
   "source": [
    "As you can see we need to take care of ideally balanced multiclass data set. Now let's visualize our data."
   ]
  },
  {
   "cell_type": "code",
   "execution_count": 4,
   "metadata": {},
   "outputs": [
    {
     "data": {
      "image/png": "[encoded data removed]",
      "text/plain": [
       "<Figure size 1152x432 with 10 Axes>"
      ]
     },
     "metadata": {
      "needs_background": "light"
     },
     "output_type": "display_data"
    }
   ],
   "source": [
    "plt.figure(figsize=(16, 6))\n",
    "for i in range(10):\n",
    "    plt.subplot(2, 5, i + 1)\n",
    "    plt.imshow(X[i,:].reshape([8,8]), cmap='gray');"
   ]
  },
  {
   "cell_type": "markdown",
   "metadata": {},
   "source": [
    "## Clustering Methods"
   ]
  },
  {
   "cell_type": "markdown",
   "metadata": {},
   "source": [
    "<img src=\"https://scikit-learn.org/stable/_images/sphx_glr_plot_cluster_comparison_0011.png\" width=\"750px\"/>"
   ]
  },
  {
   "cell_type": "markdown",
   "metadata": {},
   "source": [
    "### K-Means"
   ]
  },
  {
   "cell_type": "markdown",
   "metadata": {},
   "source": [
    "The most well known clustering algorithm is definitely K-means. It was discussed in Yorko's tutorial, so I will not pay too much attention to this method, I will remind it's basic steps, and later K-means will be used as a baseline model. It is easy to undersatnd and easy to implement K-means. K-means tries to choose centroids ('means') in order to minimize within-cluster inertia.\n",
    "\n",
    "Basic iterations of K-means look like this:\n",
    "\n",
    "1. We randomly initialize K cluster centers. Centers of clusters are simply some of the observation from given dataset;\n",
    "2. For each observation from dataset is computed the distance between one and all clusters' centers. Observations relate to a cluster, which centers is the closest to them;\n",
    "3. Centers of clusters are recomputed based on values of all data points within a given cluster;\n",
    "4. Steps 2-3 are repeated until convergence is not reached."
   ]
  },
  {
   "cell_type": "markdown",
   "metadata": {},
   "source": [
    "<img src=\"https://cdn-images-1.medium.com/max/800/1*KrcZK0xYgTa4qFrVr0fO2w.gif\" width=\"350px\"/>"
   ]
  },
  {
   "cell_type": "markdown",
   "metadata": {},
   "source": [
    "**Advantages:**\n",
    "\n",
    "1. Simplicity - It's easy to understand and interpret;\n",
    "2. Speed - Algorithm will converge very fast, comparing to other methods;\n",
    "\n",
    "**Drawbacks:**\n",
    "\n",
    "1. There is need to specify number of clusters;\n",
    "2. Algorithm starts from random points, which may lead to different results."
   ]
  },
  {
   "cell_type": "markdown",
   "metadata": {},
   "source": [
    "### Mean-Shift"
   ]
  },
  {
   "cell_type": "markdown",
   "metadata": {},
   "source": [
    "Mean-shift is a clustering algorithm, which aims to locate centers of clusters in the most dense area of data points. Mean-shift starts from a ramdom point, where it locates a circular sliding window of radius r (which is a parameter we are able to specify). Mean-shift is shifting step-by-step center point to a region with higher density. The algorithm will shift the sliding window untill he can not find a direction with higher density of data points. When multiple sliding windows iverlap each other, then the window, which contains the biggest number of data points, is choosed as a final cluster."
   ]
  },
  {
   "cell_type": "markdown",
   "metadata": {},
   "source": [
    "<img src=\"https://cdn-images-1.medium.com/max/800/1*vyz94J_76dsVToaa4VG1Zg.gif\" width=\"350px\"/>"
   ]
  },
  {
   "cell_type": "markdown",
   "metadata": {},
   "source": [
    "**Advantages:**\n",
    "\n",
    "1. There is no need to specify number of clusters;\n",
    "2. Algorithm is guaranteed to converge;\n",
    "\n",
    "**Drawbacks:**\n",
    "\n",
    "1. Algorithm is mot highly scalable;\n",
    "2. In sklearn there is no need to specify r, still selection of this parameter is not trivial."
   ]
  },
  {
   "cell_type": "markdown",
   "metadata": {},
   "source": [
    "### DBSCAN"
   ]
  },
  {
   "cell_type": "markdown",
   "metadata": {},
   "source": [
    "DBSCAN is a clustering algorithm, which core idea is finding high density area. So it is quite similar to Mean-shift, still there is a difference between them. DBSCAN works this way:\n",
    "\n",
    "1. DBSCAN starts with an arbitrary data point, which is not labeled as visited. Using parameter epsilon, which has to be set by user, an algorithm extracts the neighborhood of this data point. Neighborhood are all points within distance epsilon.\n",
    "2. There is one more parameter, which has to be set - min_samples. If there are min_samples within neighborhood, than starts clustering process, and this data point becomes the first data point in cluster. If there are less data pioint in neighborhood than min_samples, than this data point is labeled as outlier, but it is also labeled as visited.\n",
    "3. For the first data point belonging to a cluster all data points in it's neighborhood also become part of this cluster.\n",
    "4. The process from 2-3 is repetated for all data points in cluster, untill there are no unvisited data points.\n",
    "5. When the algorithm managed to visit all data points in the first cluster, it starts with another arbitrary data point, which has not been visited. Then process from 2-4 is repeated for all new clusters. In the end there are no unvisited data points, all of them belong to some clusters or labeled as outliers."
   ]
  },
  {
   "cell_type": "markdown",
   "metadata": {},
   "source": [
    "<img src=\"https://cdn-images-1.medium.com/max/1600/1*tc8UF-h0nQqUfLC8-0uInQ.gif\" width=\"550px\"/>"
   ]
  },
  {
   "cell_type": "markdown",
   "metadata": {},
   "source": [
    "**Advantages:**\n",
    "\n",
    "1. There is no need to specify number of clusters;\n",
    "2. Algorithm is able to identify outliers;\n",
    "3. Algorithm is capabale of finding cluster of arbitrary shape and size;\n",
    "\n",
    "**Drawbacks:**\n",
    "\n",
    "1. It is not easy to estimate **epsilon** and **min_samples**;\n",
    "2. Algorithm does not perform well on data with varying density."
   ]
  },
  {
   "cell_type": "markdown",
   "metadata": {},
   "source": [
    "### Birch"
   ]
  },
  {
   "cell_type": "markdown",
   "metadata": {},
   "source": [
    "Birch is a clustering algorithm, which can handle a large amount of data. Birch builds so called Characteristic Feature Tree (CFT) to form a set of Characteristic Feature Nodes (CFN). Inside CFN there are some Characteristic Feature Subclusters (CFS), which hold sufficient information about data. As you can see there is no need to store all the data in memory, because every valuable information can be found in CFS, thus Birch algorithm can be thought as a data reduction method CFS contains information:\n",
    "\n",
    "1. Number of samples in a subcluster;\n",
    "2. Linear Sum - A n-dimensional vector holding the sum of all samples;\n",
    "3. Squared Sum - Sum of the squared L2 norm of all samples;\n",
    "4. Centroids - To avoid recalculation linear sum / n_samples;\n",
    "5. Squared norm of the centroids."
   ]
  },
  {
   "cell_type": "markdown",
   "metadata": {},
   "source": [
    "**Advantages:**\n",
    "\n",
    "1. Birch can handle large datasets;\n",
    "\n",
    "**Drawbacks:**\n",
    "\n",
    "1. There is need to specify number of clusters;\n",
    "2. Apart from number of clusters we have to specify two more parameters;\n",
    "3. Birch doesn't perform well on high dimensional data (if there are >20 features, you'd better use something else)."
   ]
  },
  {
   "cell_type": "markdown",
   "metadata": {},
   "source": [
    "## Clustering performance evaluation"
   ]
  },
  {
   "cell_type": "markdown",
   "metadata": {},
   "source": [
    "| Metric Name | Knowledge of Groud Truth |\n",
    "|---|---|\n",
    "| Adjusted Rand index | Yes |\n",
    "| Mutual Information based scores | Yes |\n",
    "| Homogeneity, completeness and V-measure | Yes |\n",
    "| Fowlkes-Mallows scores | Yes |\n",
    "| Silhouette Coefficient | No |\n",
    "| Calinski-Harabaz Index | No |\n",
    "| Davies-Bouldin Index | No |\n",
    "| Contingency Matrix | Yes |"
   ]
  },
  {
   "cell_type": "markdown",
   "metadata": {},
   "source": [
    "## Comparing clustering algorithms"
   ]
  },
  {
   "cell_type": "code",
   "execution_count": 15,
   "metadata": {},
   "outputs": [],
   "source": [
    "output = pd.DataFrame(index=['K-Means','Mean-Shift','DBSCAN','Birch'],\n",
    "                      columns=['ARI','MI','HCV','FM','SC','CH','DB'])"
   ]
  },
  {
   "cell_type": "markdown",
   "metadata": {},
   "source": [
    "### K-Means"
   ]
  },
  {
   "cell_type": "code",
   "execution_count": 16,
   "metadata": {},
   "outputs": [],
   "source": [
    "# Fitting K-Means to data\n",
    "clust_model = KMeans(n_clusters=10, random_state=17)\n",
    "clust_model.fit(X)\n",
    "# Evaluating model's performance\n",
    "labels = clust_model.labels_\n",
    "output.loc['K-Means','ARI'] = metrics.adjusted_rand_score(y, labels)\n",
    "output.loc['K-Means','MI'] = metrics.adjusted_mutual_info_score(y, labels)\n",
    "output.loc['K-Means','HCV'] = metrics.homogeneity_score(y, labels)\n",
    "output.loc['K-Means','FM'] = metrics.fowlkes_mallows_score(y, labels)\n",
    "output.loc['K-Means','SC'] = metrics.silhouette_score(X, labels, metric='euclidean')\n",
    "output.loc['K-Means','CH'] = metrics.calinski_harabasz_score(X, labels)\n",
    "output.loc['K-Means','DB'] = metrics.davies_bouldin_score(X, labels)"
   ]
  },
  {
   "cell_type": "markdown",
   "metadata": {},
   "source": [
    "### Mean-shift"
   ]
  },
  {
   "cell_type": "markdown",
   "metadata": {},
   "source": [
    "As you can see one of Mean-Shift drawbacks come to an action: we need to specify bandwidth here, which might be challenging."
   ]
  },
  {
   "cell_type": "code",
   "execution_count": 17,
   "metadata": {},
   "outputs": [
    {
     "name": "stderr",
     "output_type": "stream",
     "text": [
      "<ipython-input-17-8c214a3f8f21>:2: TqdmDeprecationWarning: This function will be removed in tqdm==5.0.0\n",
      "Please use `tqdm.notebook.tqdm` instead of `tqdm.tqdm_notebook`\n",
      "  for bw in tqdm_notebook(np.linspace(5,50,10)):\n"
     ]
    },
    {
     "data": {
      "application/vnd.jupyter.widget-view+json": {
       "model_id": "4eb305307442441983dd8d72b4e77e77",
       "version_major": 2,
       "version_minor": 0
      },
      "text/plain": [
       "  0%|          | 0/10 [00:00<?, ?it/s]"
      ]
     },
     "metadata": {},
     "output_type": "display_data"
    },
    {
     "data": {
      "text/html": [
       "<div>\n",
       "<style scoped>\n",
       "    .dataframe tbody tr th:only-of-type {\n",
       "        vertical-align: middle;\n",
       "    }\n",
       "\n",
       "    .dataframe tbody tr th {\n",
       "        vertical-align: top;\n",
       "    }\n",
       "\n",
       "    .dataframe thead th {\n",
       "        text-align: right;\n",
       "    }\n",
       "</style>\n",
       "<table border=\"1\" class=\"dataframe\">\n",
       "  <thead>\n",
       "    <tr style=\"text-align: right;\">\n",
       "      <th></th>\n",
       "      <th>Score</th>\n",
       "    </tr>\n",
       "  </thead>\n",
       "  <tbody>\n",
       "    <tr>\n",
       "      <th>5.0</th>\n",
       "      <td>0.000000</td>\n",
       "    </tr>\n",
       "    <tr>\n",
       "      <th>10.0</th>\n",
       "      <td>0.000460</td>\n",
       "    </tr>\n",
       "    <tr>\n",
       "      <th>15.0</th>\n",
       "      <td>0.038013</td>\n",
       "    </tr>\n",
       "    <tr>\n",
       "      <th>20.0</th>\n",
       "      <td>0.353279</td>\n",
       "    </tr>\n",
       "    <tr>\n",
       "      <th>25.0</th>\n",
       "      <td>0.633036</td>\n",
       "    </tr>\n",
       "    <tr>\n",
       "      <th>30.0</th>\n",
       "      <td>0.435410</td>\n",
       "    </tr>\n",
       "    <tr>\n",
       "      <th>35.0</th>\n",
       "      <td>0.000000</td>\n",
       "    </tr>\n",
       "    <tr>\n",
       "      <th>40.0</th>\n",
       "      <td>0.000000</td>\n",
       "    </tr>\n",
       "    <tr>\n",
       "      <th>45.0</th>\n",
       "      <td>0.000000</td>\n",
       "    </tr>\n",
       "    <tr>\n",
       "      <th>50.0</th>\n",
       "      <td>0.000000</td>\n",
       "    </tr>\n",
       "  </tbody>\n",
       "</table>\n",
       "</div>"
      ],
      "text/plain": [
       "         Score\n",
       "5.0   0.000000\n",
       "10.0  0.000460\n",
       "15.0  0.038013\n",
       "20.0  0.353279\n",
       "25.0  0.633036\n",
       "30.0  0.435410\n",
       "35.0  0.000000\n",
       "40.0  0.000000\n",
       "45.0  0.000000\n",
       "50.0  0.000000"
      ]
     },
     "execution_count": 17,
     "metadata": {},
     "output_type": "execute_result"
    }
   ],
   "source": [
    "result = []\n",
    "for bw in tqdm_notebook(np.linspace(5,50,10)):\n",
    "    clust_model = MeanShift(bandwidth=bw)\n",
    "    clust_model.fit(X)\n",
    "    labels = clust_model.labels_\n",
    "    result.append(metrics.adjusted_rand_score(y, labels))\n",
    "res = pd.DataFrame(index=np.linspace(5,50,10))\n",
    "res['Score'] = result\n",
    "res"
   ]
  },
  {
   "cell_type": "code",
   "execution_count": 18,
   "metadata": {},
   "outputs": [
    {
     "name": "stderr",
     "output_type": "stream",
     "text": [
      "<ipython-input-18-b0f6238f8cbb>:2: TqdmDeprecationWarning: This function will be removed in tqdm==5.0.0\n",
      "Please use `tqdm.notebook.tqdm` instead of `tqdm.tqdm_notebook`\n",
      "  for bw in tqdm_notebook(np.linspace(21,29,9)):\n"
     ]
    },
    {
     "data": {
      "application/vnd.jupyter.widget-view+json": {
       "model_id": "d69195d3e8fc4562939dff75a12b8714",
       "version_major": 2,
       "version_minor": 0
      },
      "text/plain": [
       "  0%|          | 0/9 [00:00<?, ?it/s]"
      ]
     },
     "metadata": {},
     "output_type": "display_data"
    },
    {
     "data": {
      "text/html": [
       "<div>\n",
       "<style scoped>\n",
       "    .dataframe tbody tr th:only-of-type {\n",
       "        vertical-align: middle;\n",
       "    }\n",
       "\n",
       "    .dataframe tbody tr th {\n",
       "        vertical-align: top;\n",
       "    }\n",
       "\n",
       "    .dataframe thead th {\n",
       "        text-align: right;\n",
       "    }\n",
       "</style>\n",
       "<table border=\"1\" class=\"dataframe\">\n",
       "  <thead>\n",
       "    <tr style=\"text-align: right;\">\n",
       "      <th></th>\n",
       "      <th>Score</th>\n",
       "    </tr>\n",
       "  </thead>\n",
       "  <tbody>\n",
       "    <tr>\n",
       "      <th>21.0</th>\n",
       "      <td>0.428826</td>\n",
       "    </tr>\n",
       "    <tr>\n",
       "      <th>22.0</th>\n",
       "      <td>0.504613</td>\n",
       "    </tr>\n",
       "    <tr>\n",
       "      <th>23.0</th>\n",
       "      <td>0.565381</td>\n",
       "    </tr>\n",
       "    <tr>\n",
       "      <th>24.0</th>\n",
       "      <td>0.611518</td>\n",
       "    </tr>\n",
       "    <tr>\n",
       "      <th>25.0</th>\n",
       "      <td>0.633036</td>\n",
       "    </tr>\n",
       "    <tr>\n",
       "      <th>26.0</th>\n",
       "      <td>0.658008</td>\n",
       "    </tr>\n",
       "    <tr>\n",
       "      <th>27.0</th>\n",
       "      <td>0.574749</td>\n",
       "    </tr>\n",
       "    <tr>\n",
       "      <th>28.0</th>\n",
       "      <td>0.575926</td>\n",
       "    </tr>\n",
       "    <tr>\n",
       "      <th>29.0</th>\n",
       "      <td>0.614136</td>\n",
       "    </tr>\n",
       "  </tbody>\n",
       "</table>\n",
       "</div>"
      ],
      "text/plain": [
       "         Score\n",
       "21.0  0.428826\n",
       "22.0  0.504613\n",
       "23.0  0.565381\n",
       "24.0  0.611518\n",
       "25.0  0.633036\n",
       "26.0  0.658008\n",
       "27.0  0.574749\n",
       "28.0  0.575926\n",
       "29.0  0.614136"
      ]
     },
     "execution_count": 18,
     "metadata": {},
     "output_type": "execute_result"
    }
   ],
   "source": [
    "result = []\n",
    "for bw in tqdm_notebook(np.linspace(21,29,9)):\n",
    "    clust_model = MeanShift(bandwidth=bw)\n",
    "    clust_model.fit(X)\n",
    "    labels = clust_model.labels_\n",
    "    result.append(metrics.adjusted_rand_score(y, labels))\n",
    "res = pd.DataFrame(index=np.linspace(21,29,9))\n",
    "res['Score'] = result\n",
    "res"
   ]
  },
  {
   "cell_type": "code",
   "execution_count": 19,
   "metadata": {},
   "outputs": [],
   "source": [
    "# Fitting Mean-Shift to data\n",
    "clust_model = MeanShift(bandwidth=26)\n",
    "clust_model.fit(X)\n",
    "# Evaluating model's performance\n",
    "labels = clust_model.labels_\n",
    "output.loc['Mean-Shift','ARI'] = metrics.adjusted_rand_score(y, labels)\n",
    "output.loc['Mean-Shift','MI'] = metrics.adjusted_mutual_info_score(y, labels)\n",
    "output.loc['Mean-Shift','HCV'] = metrics.homogeneity_score(y, labels)\n",
    "output.loc['Mean-Shift','FM'] = metrics.fowlkes_mallows_score(y, labels)\n",
    "output.loc['Mean-Shift','SC'] = metrics.silhouette_score(X, labels, metric='euclidean')\n",
    "output.loc['Mean-Shift','CH'] = metrics.calinski_harabasz_score(X, labels)\n",
    "output.loc['Mean-Shift','DB'] = metrics.davies_bouldin_score(X, labels)"
   ]
  },
  {
   "cell_type": "markdown",
   "metadata": {},
   "source": [
    "### DBSCAN"
   ]
  },
  {
   "cell_type": "markdown",
   "metadata": {},
   "source": [
    "Here we need to specify even more parameters... this task becomes even more challenging. Default parameters perform very poor, so I will try something custom, but I'm hopeless to reach good performnce."
   ]
  },
  {
   "cell_type": "code",
   "execution_count": 20,
   "metadata": {},
   "outputs": [],
   "source": [
    "# Fitting DBSCAN to data\n",
    "clust_model = DBSCAN(min_samples=2, eps=10)\n",
    "clust_model.fit(X)\n",
    "# Evaluating model's performance\n",
    "labels = clust_model.labels_\n",
    "output.loc['DBSCAN','ARI'] = metrics.adjusted_rand_score(y, labels)\n",
    "output.loc['DBSCAN','MI'] = metrics.adjusted_mutual_info_score(y, labels)\n",
    "output.loc['DBSCAN','HCV'] = metrics.homogeneity_score(y, labels)\n",
    "output.loc['DBSCAN','FM'] = metrics.fowlkes_mallows_score(y, labels)\n",
    "output.loc['DBSCAN','SC'] = metrics.silhouette_score(X, labels, metric='euclidean')\n",
    "output.loc['DBSCAN','CH'] = metrics.calinski_harabasz_score(X, labels)\n",
    "output.loc['DBSCAN','DB'] = metrics.davies_bouldin_score(X, labels)"
   ]
  },
  {
   "cell_type": "markdown",
   "metadata": {},
   "source": [
    "### Birch"
   ]
  },
  {
   "cell_type": "markdown",
   "metadata": {},
   "source": [
    "And finally **Birch** with 3 parameters to specify... Luckily, we know, that we have 10 digits (clusters), so there are only 2 parameters left. In this case I will use defaul parameters."
   ]
  },
  {
   "cell_type": "code",
   "execution_count": 21,
   "metadata": {},
   "outputs": [],
   "source": [
    "# Fitting Birch to data\n",
    "clust_model = Birch(n_clusters=10)\n",
    "clust_model.fit(X)\n",
    "# Evaluating model's performance\n",
    "labels = clust_model.labels_\n",
    "output.loc['Birch','ARI'] = metrics.adjusted_rand_score(y, labels)\n",
    "output.loc['Birch','MI'] = metrics.adjusted_mutual_info_score(y, labels)\n",
    "output.loc['Birch','HCV'] = metrics.homogeneity_score(y, labels)\n",
    "output.loc['Birch','FM'] = metrics.fowlkes_mallows_score(y, labels)\n",
    "output.loc['Birch','SC'] = metrics.silhouette_score(X, labels, metric='euclidean')\n",
    "output.loc['Birch','CH'] = metrics.calinski_harabasz_score(X, labels)\n",
    "output.loc['Birch','DB'] = metrics.davies_bouldin_score(X, labels)"
   ]
  },
  {
   "cell_type": "markdown",
   "metadata": {},
   "source": [
    "## Conclusion"
   ]
  },
  {
   "cell_type": "code",
   "execution_count": 22,
   "metadata": {},
   "outputs": [
    {
     "data": {
      "text/html": [
       "<div>\n",
       "<style scoped>\n",
       "    .dataframe tbody tr th:only-of-type {\n",
       "        vertical-align: middle;\n",
       "    }\n",
       "\n",
       "    .dataframe tbody tr th {\n",
       "        vertical-align: top;\n",
       "    }\n",
       "\n",
       "    .dataframe thead th {\n",
       "        text-align: right;\n",
       "    }\n",
       "</style>\n",
       "<table border=\"1\" class=\"dataframe\">\n",
       "  <thead>\n",
       "    <tr style=\"text-align: right;\">\n",
       "      <th></th>\n",
       "      <th>ARI</th>\n",
       "      <th>MI</th>\n",
       "      <th>HCV</th>\n",
       "      <th>FM</th>\n",
       "      <th>SC</th>\n",
       "      <th>CH</th>\n",
       "      <th>DB</th>\n",
       "    </tr>\n",
       "  </thead>\n",
       "  <tbody>\n",
       "    <tr>\n",
       "      <th>K-Means</th>\n",
       "      <td>0.668044</td>\n",
       "      <td>0.744582</td>\n",
       "      <td>0.74263</td>\n",
       "      <td>0.702149</td>\n",
       "      <td>0.182509</td>\n",
       "      <td>169.371523</td>\n",
       "      <td>1.924678</td>\n",
       "    </tr>\n",
       "    <tr>\n",
       "      <th>Mean-Shift</th>\n",
       "      <td>0.658008</td>\n",
       "      <td>0.748441</td>\n",
       "      <td>0.83186</td>\n",
       "      <td>0.691674</td>\n",
       "      <td>0.105164</td>\n",
       "      <td>52.335957</td>\n",
       "      <td>1.665168</td>\n",
       "    </tr>\n",
       "    <tr>\n",
       "      <th>DBSCAN</th>\n",
       "      <td>0.000193</td>\n",
       "      <td>0.012197</td>\n",
       "      <td>0.019101</td>\n",
       "      <td>0.309772</td>\n",
       "      <td>-0.303335</td>\n",
       "      <td>2.450768</td>\n",
       "      <td>1.120169</td>\n",
       "    </tr>\n",
       "    <tr>\n",
       "      <th>Birch</th>\n",
       "      <td>0.794003</td>\n",
       "      <td>0.866832</td>\n",
       "      <td>0.857513</td>\n",
       "      <td>0.816752</td>\n",
       "      <td>0.178497</td>\n",
       "      <td>161.204753</td>\n",
       "      <td>1.888989</td>\n",
       "    </tr>\n",
       "  </tbody>\n",
       "</table>\n",
       "</div>"
      ],
      "text/plain": [
       "                 ARI        MI       HCV        FM        SC          CH  \\\n",
       "K-Means     0.668044  0.744582   0.74263  0.702149  0.182509  169.371523   \n",
       "Mean-Shift  0.658008  0.748441   0.83186  0.691674  0.105164   52.335957   \n",
       "DBSCAN      0.000193  0.012197  0.019101  0.309772 -0.303335    2.450768   \n",
       "Birch       0.794003  0.866832  0.857513  0.816752  0.178497  161.204753   \n",
       "\n",
       "                  DB  \n",
       "K-Means     1.924678  \n",
       "Mean-Shift  1.665168  \n",
       "DBSCAN      1.120169  \n",
       "Birch       1.888989  "
      ]
     },
     "execution_count": 22,
     "metadata": {},
     "output_type": "execute_result"
    }
   ],
   "source": [
    "output"
   ]
  },
  {
   "cell_type": "markdown",
   "metadata": {},
   "source": [
    "As we can see Birch method performed best. As for me, Birch is the most complicated algorithm from all described in this tutorial, so it worth spending more time to study Birch better."
   ]
  },
  {
   "cell_type": "code",
   "execution_count": null,
   "metadata": {},
   "outputs": [],
   "source": []
  },
  {
   "cell_type": "code",
   "execution_count": null,
   "metadata": {},
   "outputs": [],
   "source": []
  }
 ],
 "metadata": {
  "hide_input": false,
  "kernelspec": {
   "display_name": "Python 3",
   "language": "python",
   "name": "python3"
  },
  "language_info": {
   "codemirror_mode": {
    "name": "ipython",
    "version": 3
   },
   "file_extension": ".py",
   "mimetype": "text/x-python",
   "name": "python",
   "nbconvert_exporter": "python",
   "pygments_lexer": "ipython3",
   "version": "3.8.2"
  },
  "toc": {
   "base_numbering": 1,
   "nav_menu": {},
   "number_sections": true,
   "sideBar": true,
   "skip_h1_title": false,
   "title_cell": "Table of Contents",
   "title_sidebar": "Contents",
   "toc_cell": false,
   "toc_position": {},
   "toc_section_display": true,
   "toc_window_display": true
  },
  "varInspector": {
   "cols": {
    "lenName": 16,
    "lenType": 16,
    "lenVar": 40
   },
   "kernels_config": {
    "python": {
     "delete_cmd_postfix": "",
     "delete_cmd_prefix": "del ",
     "library": "var_list.py",
     "varRefreshCmd": "print(var_dic_list())"
    },
    "r": {
     "delete_cmd_postfix": ") ",
     "delete_cmd_prefix": "rm(",
     "library": "var_list.r",
     "varRefreshCmd": "cat(var_dic_list()) "
    }
   },
   "types_to_exclude": [
    "module",
    "function",
    "builtin_function_or_method",
    "instance",
    "_Feature"
   ],
   "window_display": false
  }
 },
 "nbformat": 4,
 "nbformat_minor": 1
}
